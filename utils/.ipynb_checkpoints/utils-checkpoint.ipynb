{
 "cells": [
  {
   "cell_type": "code",
   "execution_count": null,
   "metadata": {},
   "outputs": [],
   "source": [
    "import os\n",
    "import keras\n",
    "from keras.models import load_model\n",
    "from keras.models import model_from_json\n",
    "\n",
    "def load_model(model_name, model_path = '/home/fernando/generative_learning/models/saved/'):\n",
    "    \n",
    "    model_full_path = os.path.join(model_path, model_name)\n",
    "    print(f'Loading {model_full_path}')\n",
    "    with open(model_full_path + '.json', 'r') as json_file:\n",
    "        json_model = json_file.read()\n",
    "        \n",
    "    model = keras.models.model_from_json(json_model)\n",
    "    \n",
    "    model.load_weights(model_full_path + '.h5')\n",
    "    \n",
    "    return model\n",
    "    \n",
    "def save_model(model, \n",
    "               model_name, \n",
    "               model_path = '/home/fernando/generative_learning/models/saved/',\n",
    "               ask_on_overwrite = False):\n",
    "    \n",
    "    model_full_path = os.path.join(model_path, model_name)\n",
    "\n",
    "    if ask_on_overwrite == True and os.path.exists(model_full_path + '.json'):\n",
    "        overwrite = input('Model already exists, do you want to overwrite [Y/N]?')\n",
    "        if overwrite.lower() != 'y':\n",
    "            print('Won\\'t save the model')\n",
    "            return\n",
    "        else:\n",
    "            print('Will overwrite')\n",
    "            \n",
    "    with open(model_full_path + '.json', 'w') as json_file:\n",
    "        json_file.write(model.to_json())\n",
    "    \n",
    "    model.save_weights(model_full_path + '.h5')\n",
    "    \n",
    "    print(f'Model saved: {model_full_path}')"
   ]
  }
 ],
 "metadata": {
  "kernelspec": {
   "display_name": "generative",
   "language": "python",
   "name": "generative"
  },
  "language_info": {
   "codemirror_mode": {
    "name": "ipython",
    "version": 3
   },
   "file_extension": ".py",
   "mimetype": "text/x-python",
   "name": "python",
   "nbconvert_exporter": "python",
   "pygments_lexer": "ipython3",
   "version": "3.6.8"
  }
 },
 "nbformat": 4,
 "nbformat_minor": 2
}
